{
 "cells": [
  {
   "cell_type": "code",
   "execution_count": 4,
   "id": "4abef3ac-61be-40d8-9686-5f7bd3896068",
   "metadata": {
    "execution": {
     "iopub.execute_input": "2025-10-15T14:21:10.138089Z",
     "iopub.status.busy": "2025-10-15T14:21:10.137829Z",
     "iopub.status.idle": "2025-10-15T14:21:10.141199Z",
     "shell.execute_reply": "2025-10-15T14:21:10.140556Z",
     "shell.execute_reply.started": "2025-10-15T14:21:10.138064Z"
    }
   },
   "outputs": [],
   "source": [
    "import findspark\n",
    "findspark.init('/opt/spark-3.5.7')"
   ]
  },
  {
   "cell_type": "code",
   "execution_count": 5,
   "id": "006c1551-4bf9-4508-a664-f13550254006",
   "metadata": {
    "execution": {
     "iopub.execute_input": "2025-10-15T14:21:18.405712Z",
     "iopub.status.busy": "2025-10-15T14:21:18.405494Z",
     "iopub.status.idle": "2025-10-15T14:21:18.411486Z",
     "shell.execute_reply": "2025-10-15T14:21:18.410918Z",
     "shell.execute_reply.started": "2025-10-15T14:21:18.405693Z"
    }
   },
   "outputs": [],
   "source": [
    "import pyspark\n",
    "from pyspark.sql import SparkSession\n",
    "spark = SparkSession.builder.master(\"local[1]\") \\\n",
    "                    .appName('Test') \\\n",
    "                    .getOrCreate()"
   ]
  },
  {
   "cell_type": "code",
   "execution_count": 6,
   "id": "48b446b7-28e9-4c7f-bc98-185f6a0a8f8f",
   "metadata": {
    "execution": {
     "iopub.execute_input": "2025-10-15T14:21:19.080217Z",
     "iopub.status.busy": "2025-10-15T14:21:19.079001Z",
     "iopub.status.idle": "2025-10-15T14:21:19.096094Z",
     "shell.execute_reply": "2025-10-15T14:21:19.095484Z",
     "shell.execute_reply.started": "2025-10-15T14:21:19.080139Z"
    }
   },
   "outputs": [],
   "source": [
    "df = spark.read.format('text').load('README.md')"
   ]
  },
  {
   "cell_type": "code",
   "execution_count": 7,
   "id": "4ab26f89-f78f-4f26-b794-3f50a08db1cb",
   "metadata": {
    "execution": {
     "iopub.execute_input": "2025-10-15T14:21:19.670865Z",
     "iopub.status.busy": "2025-10-15T14:21:19.670057Z",
     "iopub.status.idle": "2025-10-15T14:21:19.757602Z",
     "shell.execute_reply": "2025-10-15T14:21:19.757135Z",
     "shell.execute_reply.started": "2025-10-15T14:21:19.670793Z"
    }
   },
   "outputs": [
    {
     "name": "stdout",
     "output_type": "stream",
     "text": [
      "+------+\n",
      "| value|\n",
      "+------+\n",
      "|123123|\n",
      "+------+\n",
      "\n"
     ]
    }
   ],
   "source": [
    "df.show()"
   ]
  },
  {
   "cell_type": "code",
   "execution_count": 16,
   "id": "bf3eb71f-57b1-46d9-9e59-f521871b51d3",
   "metadata": {
    "execution": {
     "iopub.execute_input": "2025-10-15T14:36:38.080042Z",
     "iopub.status.busy": "2025-10-15T14:36:38.079542Z",
     "iopub.status.idle": "2025-10-15T14:36:38.086727Z",
     "shell.execute_reply": "2025-10-15T14:36:38.085400Z",
     "shell.execute_reply.started": "2025-10-15T14:36:38.079997Z"
    }
   },
   "outputs": [],
   "source": [
    "from pyspark.sql.types import StructType, StructField, StringType, IntegerType\n",
    "\n",
    "schema = StructType([\n",
    "    StructField(\"name\", StringType(), True),  # True 表示字段可为null\n",
    "    StructField(\"age\", IntegerType(), True)\n",
    "])"
   ]
  },
  {
   "cell_type": "code",
   "execution_count": 19,
   "id": "d4298ebe-4235-4f29-969b-9f8e931382e5",
   "metadata": {
    "execution": {
     "iopub.execute_input": "2025-10-15T14:38:22.393765Z",
     "iopub.status.busy": "2025-10-15T14:38:22.393063Z",
     "iopub.status.idle": "2025-10-15T14:38:22.423030Z",
     "shell.execute_reply": "2025-10-15T14:38:22.422505Z",
     "shell.execute_reply.started": "2025-10-15T14:38:22.393706Z"
    }
   },
   "outputs": [],
   "source": [
    "jsonDf = spark.read.schema(schema).option(\"multiLine\", True).format('json').load('./test.json')"
   ]
  },
  {
   "cell_type": "code",
   "execution_count": 20,
   "id": "6dfd08e9-65ee-4259-8235-ca521c2e8014",
   "metadata": {
    "execution": {
     "iopub.execute_input": "2025-10-15T14:38:24.656347Z",
     "iopub.status.busy": "2025-10-15T14:38:24.655663Z",
     "iopub.status.idle": "2025-10-15T14:38:24.724478Z",
     "shell.execute_reply": "2025-10-15T14:38:24.723901Z",
     "shell.execute_reply.started": "2025-10-15T14:38:24.656266Z"
    }
   },
   "outputs": [
    {
     "name": "stdout",
     "output_type": "stream",
     "text": [
      "+----+---+\n",
      "|name|age|\n",
      "+----+---+\n",
      "|mike| 20|\n",
      "+----+---+\n",
      "\n"
     ]
    }
   ],
   "source": [
    "jsonDf.show()\n"
   ]
  },
  {
   "cell_type": "code",
   "execution_count": 21,
   "id": "a1cd860b-5959-4fdc-813a-2af7a4219c2a",
   "metadata": {
    "execution": {
     "iopub.execute_input": "2025-10-15T14:44:13.096454Z",
     "iopub.status.busy": "2025-10-15T14:44:13.095663Z",
     "iopub.status.idle": "2025-10-15T14:44:13.223018Z",
     "shell.execute_reply": "2025-10-15T14:44:13.222038Z",
     "shell.execute_reply.started": "2025-10-15T14:44:13.096388Z"
    }
   },
   "outputs": [
    {
     "name": "stdout",
     "output_type": "stream",
     "text": [
      "位于分支 master\n",
      "您的分支与上游分支 'origin/master' 一致。\n",
      "\n",
      "未跟踪的文件:\n",
      "  （使用 \"git add <文件>...\" 以包含要提交的内容）\n",
      "\t\u001b[31m.ipynb_checkpoints/\u001b[m\n",
      "\t\u001b[31mtest.json\u001b[m\n",
      "\t\u001b[31muntitled.txt\u001b[m\n",
      "\t\u001b[31m\"\\346\\234\\252\\345\\221\\275\\345\\220\\215.ipynb\"\u001b[m\n",
      "\n",
      "提交为空，但是存在尚未跟踪的文件（使用 \"git add\" 建立跟踪）\n"
     ]
    }
   ],
   "source": [
    "!git status"
   ]
  },
  {
   "cell_type": "code",
   "execution_count": 22,
   "id": "4aab2dc8-b1a9-4af4-9a54-43e507c5f0dc",
   "metadata": {
    "execution": {
     "iopub.execute_input": "2025-10-15T14:44:34.264641Z",
     "iopub.status.busy": "2025-10-15T14:44:34.264356Z",
     "iopub.status.idle": "2025-10-15T14:44:34.386696Z",
     "shell.execute_reply": "2025-10-15T14:44:34.384358Z",
     "shell.execute_reply.started": "2025-10-15T14:44:34.264598Z"
    }
   },
   "outputs": [],
   "source": [
    "!git add ."
   ]
  },
  {
   "cell_type": "code",
   "execution_count": 23,
   "id": "d47905f0-cd2b-43f2-a5be-2161679f0126",
   "metadata": {
    "execution": {
     "iopub.execute_input": "2025-10-15T14:44:44.564908Z",
     "iopub.status.busy": "2025-10-15T14:44:44.564233Z",
     "iopub.status.idle": "2025-10-15T14:44:44.696583Z",
     "shell.execute_reply": "2025-10-15T14:44:44.694147Z",
     "shell.execute_reply.started": "2025-10-15T14:44:44.564838Z"
    }
   },
   "outputs": [
    {
     "name": "stdout",
     "output_type": "stream",
     "text": [
      "位于分支 master\n",
      "您的分支与上游分支 'origin/master' 一致。\n",
      "\n",
      "要提交的变更：\n",
      "  （使用 \"git restore --staged <文件>...\" 以取消暂存）\n",
      "\t\u001b[32m新文件：   .ipynb_checkpoints/README-checkpoint.md\u001b[m\n",
      "\t\u001b[32m新文件：   .ipynb_checkpoints/test-checkpoint.json\u001b[m\n",
      "\t\u001b[32m新文件：   \".ipynb_checkpoints/\\346\\234\\252\\345\\221\\275\\345\\220\\215-checkpoint.ipynb\"\u001b[m\n",
      "\t\u001b[32m新文件：   test.json\u001b[m\n",
      "\t\u001b[32m新文件：   untitled.txt\u001b[m\n",
      "\t\u001b[32m新文件：   \"\\346\\234\\252\\345\\221\\275\\345\\220\\215.ipynb\"\u001b[m\n",
      "\n"
     ]
    }
   ],
   "source": [
    "!git status"
   ]
  },
  {
   "cell_type": "code",
   "execution_count": 24,
   "id": "2a0c13be-0111-4f41-a5ca-347c6ee8a399",
   "metadata": {
    "execution": {
     "iopub.execute_input": "2025-10-15T14:46:31.806552Z",
     "iopub.status.busy": "2025-10-15T14:46:31.805626Z",
     "iopub.status.idle": "2025-10-15T14:46:31.930960Z",
     "shell.execute_reply": "2025-10-15T14:46:31.928816Z",
     "shell.execute_reply.started": "2025-10-15T14:46:31.806482Z"
    }
   },
   "outputs": [],
   "source": [
    "!echo '*checkpoint.*' > .gitignore"
   ]
  },
  {
   "cell_type": "code",
   "execution_count": 25,
   "id": "a6d80802-85ef-4b82-97df-0052eb604684",
   "metadata": {
    "execution": {
     "iopub.execute_input": "2025-10-15T14:46:59.944551Z",
     "iopub.status.busy": "2025-10-15T14:46:59.943794Z",
     "iopub.status.idle": "2025-10-15T14:47:00.071822Z",
     "shell.execute_reply": "2025-10-15T14:47:00.069898Z",
     "shell.execute_reply.started": "2025-10-15T14:46:59.944479Z"
    }
   },
   "outputs": [
    {
     "name": "stdout",
     "output_type": "stream",
     "text": [
      "位于分支 master\n",
      "您的分支与上游分支 'origin/master' 一致。\n",
      "\n",
      "要提交的变更：\n",
      "  （使用 \"git restore --staged <文件>...\" 以取消暂存）\n",
      "\t\u001b[32m新文件：   .ipynb_checkpoints/README-checkpoint.md\u001b[m\n",
      "\t\u001b[32m新文件：   .ipynb_checkpoints/test-checkpoint.json\u001b[m\n",
      "\t\u001b[32m新文件：   \".ipynb_checkpoints/\\346\\234\\252\\345\\221\\275\\345\\220\\215-checkpoint.ipynb\"\u001b[m\n",
      "\t\u001b[32m新文件：   test.json\u001b[m\n",
      "\t\u001b[32m新文件：   untitled.txt\u001b[m\n",
      "\t\u001b[32m新文件：   \"\\346\\234\\252\\345\\221\\275\\345\\220\\215.ipynb\"\u001b[m\n",
      "\n",
      "尚未暂存以备提交的变更：\n",
      "  （使用 \"git add/rm <文件>...\" 更新要提交的内容）\n",
      "  （使用 \"git restore <文件>...\" 丢弃工作区的改动）\n",
      "\t\u001b[31m删除：     \".ipynb_checkpoints/\\346\\234\\252\\345\\221\\275\\345\\220\\215-checkpoint.ipynb\"\u001b[m\n",
      "\t\u001b[31m删除：     untitled.txt\u001b[m\n",
      "\t\u001b[31m删除：     \"\\346\\234\\252\\345\\221\\275\\345\\220\\215.ipynb\"\u001b[m\n",
      "\n",
      "未跟踪的文件:\n",
      "  （使用 \"git add <文件>...\" 以包含要提交的内容）\n",
      "\t\u001b[31m.gitignore\u001b[m\n",
      "\t\u001b[31mMyTest.ipynb\u001b[m\n",
      "\n"
     ]
    }
   ],
   "source": [
    "!git status"
   ]
  },
  {
   "cell_type": "code",
   "execution_count": null,
   "id": "96d3e066-bf8f-49d5-b3d6-c02c4507ab95",
   "metadata": {},
   "outputs": [],
   "source": [
    "!git restore --staged *.*"
   ]
  }
 ],
 "metadata": {
  "kernelspec": {
   "display_name": "Python 3 (ipykernel)",
   "language": "python",
   "name": "python3"
  },
  "language_info": {
   "codemirror_mode": {
    "name": "ipython",
    "version": 3
   },
   "file_extension": ".py",
   "mimetype": "text/x-python",
   "name": "python",
   "nbconvert_exporter": "python",
   "pygments_lexer": "ipython3",
   "version": "3.12.11"
  },
  "widgets": {
   "application/vnd.jupyter.widget-state+json": {
    "state": {},
    "version_major": 2,
    "version_minor": 0
   }
  }
 },
 "nbformat": 4,
 "nbformat_minor": 5
}
